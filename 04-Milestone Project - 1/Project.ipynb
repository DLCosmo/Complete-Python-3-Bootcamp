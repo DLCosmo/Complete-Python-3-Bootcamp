{
 "cells": [
  {
   "cell_type": "markdown",
   "metadata": {},
   "source": [
    "Funções:\n",
    "\n",
    "    draw_board(board)\n",
    "        board: lista de strings contendo a marcação do tabuleiro\n",
    "        \n",
    "    check_game(board)\n",
    "        board: lista de strings contendo a marcação do tabuleiro\n",
    "        return: condição do jogo (vitória, empate, continua)\n",
    "\n",
    "    player_input(player,board)\n",
    "        player: string 'x' ou 'o'\n",
    "        board: lista de strings contendo a marcação do tabuleiro\n",
    "        return: board atualizado"
   ]
  },
  {
   "cell_type": "code",
   "execution_count": 51,
   "metadata": {},
   "outputs": [],
   "source": [
    "def display_board(board):\n",
    "    line1 = board[0] + '|' + board[1] + '|' + board[2]\n",
    "    line2 = '-+-+-'\n",
    "    line3 = board[3] + '|' + board[4] + '|' + board[5]\n",
    "    line4 = '-+-+-'\n",
    "    line5 = board[6] + '|' + board[7] + '|' + board[8]\n",
    "    print(line1)\n",
    "    print(line2)\n",
    "    print(line3)\n",
    "    print(line4)\n",
    "    print(line5)\n",
    "    print('')"
   ]
  },
  {
   "cell_type": "code",
   "execution_count": null,
   "metadata": {},
   "outputs": [],
   "source": []
  },
  {
   "cell_type": "code",
   "execution_count": 52,
   "metadata": {},
   "outputs": [],
   "source": [
    "def check_game(board):\n",
    "    if (board[0] == board[1] == board[2] or board[0] == board[3] == board[6]) and board[0]!=' ':\n",
    "        return board[0]\n",
    "    if (board[0] == board[4] == board[8] or board[2] == board[4] == board[6] or\n",
    "        board[1] == board[4] == board[7] or board[3] == board[4] == board[5]) and board[4]!=' ':\n",
    "        return board[4]\n",
    "    if (board[2] == board[5] == board[8] or board[6] == board[7] == board[8]) and board[8]!=' ':\n",
    "        return board[8]\n",
    "    if sum([1 for item in board if item!=' ']) == 9:\n",
    "        return \"draw\"\n",
    "    else:\n",
    "        return \"continue\""
   ]
  },
  {
   "cell_type": "code",
   "execution_count": 53,
   "metadata": {},
   "outputs": [],
   "source": [
    "def player_input(player,board):\n",
    "    pos = int(input(\"Digite a posição da sua jogada no tabuleiro (1 a 9): \"))\n",
    "    while board[pos-1] != ' ':\n",
    "        pos = int(input(\"Posição já preenchida. Digite novamente a posição da sua jogada no tabuleiro (1 a 9): \"))\n",
    "    board[pos-1] = player\n",
    "    return board"
   ]
  },
  {
   "cell_type": "code",
   "execution_count": 54,
   "metadata": {},
   "outputs": [
    {
     "name": "stdout",
     "output_type": "stream",
     "text": [
      "0| | \n",
      "-+-+-\n",
      " |x|x\n",
      "-+-+-\n",
      "0|x|0\n",
      "\n"
     ]
    },
    {
     "data": {
      "text/plain": [
       "'continue'"
      ]
     },
     "execution_count": 54,
     "metadata": {},
     "output_type": "execute_result"
    }
   ],
   "source": [
    "board = ['0',' ',' ',' ','x','x','0','x','0']\n",
    "display_board(board)\n",
    "check_game(board)"
   ]
  },
  {
   "cell_type": "code",
   "execution_count": 55,
   "metadata": {},
   "outputs": [
    {
     "name": "stdout",
     "output_type": "stream",
     "text": [
      "x|o|x\n",
      "-+-+-\n",
      " |x| \n",
      "-+-+-\n",
      "o|o|x\n",
      "\n",
      "Parabens jogador 1, você venceu!\n"
     ]
    }
   ],
   "source": [
    "from IPython.display import clear_output\n",
    "\n",
    "print(\"Bem vindos ao jogo da velha\\n\")\n",
    "game_over = bool(0)\n",
    "player_flag = bool(0)\n",
    "board = [' ',' ',' ',' ',' ',' ',' ',' ',' ']\n",
    "while game_over == 0:\n",
    "    display_board(board)\n",
    "    if player_flag == 0:\n",
    "        print(\"Vez do jogador 1 (x)\")\n",
    "        player_input('x',board)\n",
    "        player_flag = not(player_flag)\n",
    "        clear_output()\n",
    "    else:\n",
    "        print(\"Vez do jogador 2 (o)\")\n",
    "        player_input('o',board)\n",
    "        player_flag = not(player_flag)\n",
    "        clear_output()\n",
    "    result = check_game(board)\n",
    "    if result == 'x':\n",
    "        display_board(board)\n",
    "        print(\"Parabens jogador 1, você venceu!\")\n",
    "        game_over = not(game_over)\n",
    "    elif result == 'o':\n",
    "        display_board(board)\n",
    "        print(\"Parabens jogador 2, você venceu!\")\n",
    "        game_over = not(game_over)\n",
    "    elif result == \"draw\":\n",
    "        display_board(board)\n",
    "        print(\"Empate, deu velha!\")\n",
    "        game_over = not(game_over)"
   ]
  },
  {
   "cell_type": "code",
   "execution_count": null,
   "metadata": {},
   "outputs": [],
   "source": []
  }
 ],
 "metadata": {
  "kernelspec": {
   "display_name": "Python 3",
   "language": "python",
   "name": "python3"
  },
  "language_info": {
   "codemirror_mode": {
    "name": "ipython",
    "version": 3
   },
   "file_extension": ".py",
   "mimetype": "text/x-python",
   "name": "python",
   "nbconvert_exporter": "python",
   "pygments_lexer": "ipython3",
   "version": "3.8.10"
  }
 },
 "nbformat": 4,
 "nbformat_minor": 2
}
