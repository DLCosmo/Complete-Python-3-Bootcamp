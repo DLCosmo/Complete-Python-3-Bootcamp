{
 "metadata": {
  "language_info": {
   "codemirror_mode": {
    "name": "ipython",
    "version": 3
   },
   "file_extension": ".py",
   "mimetype": "text/x-python",
   "name": "python",
   "nbconvert_exporter": "python",
   "pygments_lexer": "ipython3",
   "version": "3.8.6-final"
  },
  "orig_nbformat": 2,
  "kernelspec": {
   "name": "Python 3.8.6 64-bit",
   "display_name": "Python 3.8.6 64-bit",
   "metadata": {
    "interpreter": {
     "hash": "f5ba2a871b1758a72478cdeac106be680a9c6997ef772546b19fb4431a6321de"
    }
   }
  }
 },
 "nbformat": 4,
 "nbformat_minor": 2,
 "cells": [
  {
   "source": [
    "Funções:\n",
    "\n",
    "    draw_board\n",
    "        entradas: lista de cada posição do tabuleiro com a marcação a ser desenhada\n",
    "        saída: estado do jogo (vencedores, empate, ou continuação)\n",
    "\n",
    "    player_input\n",
    "        entradas: string do player que vai jogar\n",
    "        saídas: posição da jogada no tabuleiro"
   ],
   "cell_type": "markdown",
   "metadata": {}
  },
  {
   "cell_type": "code",
   "execution_count": null,
   "metadata": {},
   "outputs": [],
   "source": [
    "def draw_board(positions):\n",
    "    "
   ]
  },
  {
   "source": [
    "def player_input(player):\n"
   ],
   "cell_type": "code",
   "metadata": {},
   "execution_count": null,
   "outputs": []
  }
 ]
}